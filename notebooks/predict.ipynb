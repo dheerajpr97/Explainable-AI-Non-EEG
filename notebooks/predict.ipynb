{
 "cells": [
  {
   "cell_type": "markdown",
   "id": "634a995f",
   "metadata": {},
   "source": [
    "## Environment and Directory Setup\n",
    "This cell sets the working directory for the notebook."
   ]
  },
  {
   "cell_type": "code",
   "execution_count": 1,
   "id": "f7b6890a",
   "metadata": {},
   "outputs": [
    {
     "name": "stderr",
     "output_type": "stream",
     "text": [
      "2023-11-20 11:16:57.195726: I tensorflow/core/util/port.cc:111] oneDNN custom operations are on. You may see slightly different numerical results due to floating-point round-off errors from different computation orders. To turn them off, set the environment variable `TF_ENABLE_ONEDNN_OPTS=0`.\n",
      "2023-11-20 11:16:57.216561: E tensorflow/compiler/xla/stream_executor/cuda/cuda_dnn.cc:9342] Unable to register cuDNN factory: Attempting to register factory for plugin cuDNN when one has already been registered\n",
      "2023-11-20 11:16:57.216581: E tensorflow/compiler/xla/stream_executor/cuda/cuda_fft.cc:609] Unable to register cuFFT factory: Attempting to register factory for plugin cuFFT when one has already been registered\n",
      "2023-11-20 11:16:57.216596: E tensorflow/compiler/xla/stream_executor/cuda/cuda_blas.cc:1518] Unable to register cuBLAS factory: Attempting to register factory for plugin cuBLAS when one has already been registered\n",
      "2023-11-20 11:16:57.221172: I tensorflow/core/platform/cpu_feature_guard.cc:182] This TensorFlow binary is optimized to use available CPU instructions in performance-critical operations.\n",
      "To enable the following instructions: AVX2 AVX_VNNI FMA, in other operations, rebuild TensorFlow with the appropriate compiler flags.\n"
     ]
    }
   ],
   "source": [
    "# This cell imports all necessary libraries and modules for running the model and visualizations.\n",
    "import os\n",
    "os.chdir('../')\n",
    "%pwd\n",
    "from src.constants import *\n",
    "from src.utils.utils import *\n",
    "import numpy as np\n",
    "import tensorflow as tf\n",
    "import matplotlib.pyplot as plt\n",
    "from src.utils.grad_cam_pred import GradCAMVisualizer"
   ]
  },
  {
   "cell_type": "code",
   "execution_count": 2,
   "metadata": {},
   "outputs": [
    {
     "name": "stderr",
     "output_type": "stream",
     "text": [
      "2023-11-20 11:16:58.793508: I tensorflow/compiler/xla/stream_executor/cuda/cuda_gpu_executor.cc:894] successful NUMA node read from SysFS had negative value (-1), but there must be at least one NUMA node, so returning NUMA node zero. See more at https://github.com/torvalds/linux/blob/v6.0/Documentation/ABI/testing/sysfs-bus-pci#L344-L355\n",
      "2023-11-20 11:16:58.796775: I tensorflow/compiler/xla/stream_executor/cuda/cuda_gpu_executor.cc:894] successful NUMA node read from SysFS had negative value (-1), but there must be at least one NUMA node, so returning NUMA node zero. See more at https://github.com/torvalds/linux/blob/v6.0/Documentation/ABI/testing/sysfs-bus-pci#L344-L355\n",
      "2023-11-20 11:16:58.796889: I tensorflow/compiler/xla/stream_executor/cuda/cuda_gpu_executor.cc:894] successful NUMA node read from SysFS had negative value (-1), but there must be at least one NUMA node, so returning NUMA node zero. See more at https://github.com/torvalds/linux/blob/v6.0/Documentation/ABI/testing/sysfs-bus-pci#L344-L355\n"
     ]
    }
   ],
   "source": [
    "# Set the device to CPU\n",
    "tf.config.set_visible_devices([], 'GPU')"
   ]
  },
  {
   "cell_type": "markdown",
   "id": "dcf47dde",
   "metadata": {},
   "source": [
    "## Model Loading\n",
    "This cell loads the pre-trained model along with its modals and labels."
   ]
  },
  {
   "cell_type": "code",
   "execution_count": 3,
   "metadata": {},
   "outputs": [],
   "source": [
    "# Load the trained model from the given path, as well as the modalities and labels used for training.\n",
    "# Load your trained model, modals, and labels\n",
    "MODEL_PATH = os.path.join(SAVED_MODEL_DIR, 'model.h5')\n",
    "model = tf.keras.models.load_model(MODEL_PATH)\n",
    "modals = MODALS\n",
    "labels = LABELS\n"
   ]
  },
  {
   "cell_type": "markdown",
   "id": "85a69cdb",
   "metadata": {},
   "source": [
    "## GradCAM Initialization\n",
    "This cell initializes the GradCAMVisualizer with the loaded model to visualize model predictions."
   ]
  },
  {
   "cell_type": "code",
   "execution_count": 4,
   "metadata": {},
   "outputs": [],
   "source": [
    "# Initialize the GradCAM visualizer with the specified layer for visual explanations of model predictions.\n",
    "# Initialize GradCAMVisualizer\n",
    "visualizer = GradCAMVisualizer(model, 'activation_951', modals, labels)"
   ]
  },
  {
   "cell_type": "markdown",
   "id": "f43dc4bb",
   "metadata": {},
   "source": [
    "## Data Loading for Testing\n",
    "This cell loads the test data from a pickle file and converts it into a format suitable for testing."
   ]
  },
  {
   "cell_type": "code",
   "execution_count": 5,
   "metadata": {},
   "outputs": [],
   "source": [
    "# Load test data from a pickle file into a pandas DataFrame and then convert it to a numpy array for model input.\n",
    "# Load test data from pickle file\n",
    "test_df = load_dataframe_from_pickle(os.path.join(SAVED_DATASET_DIR, \"test_data_LOSegO_4_1_1Hz.pkl\"))\n",
    "test_data, test_labels = dataframe_to_array(test_df[0:1])\n",
    "normalized_test_data = preprocess_test_data(test_data, TRAIN_DATA_MEAN, TRAIN_DATA_STD)"
   ]
  },
  {
   "cell_type": "code",
   "execution_count": 6,
   "metadata": {},
   "outputs": [
    {
     "name": "stdout",
     "output_type": "stream",
     "text": [
      "1/1 [==============================] - 0s 117ms/step\n",
      "Predicted label: Relax\n"
     ]
    }
   ],
   "source": [
    "predictions = model.predict(normalized_test_data)\n",
    "predicted_label = np.argmax(predictions, axis=1)\n",
    "class_labels = LABELS_DICT\n",
    "print(f'Predicted label: {class_labels[predicted_label[0]]}')"
   ]
  },
  {
   "cell_type": "code",
   "execution_count": 7,
   "metadata": {},
   "outputs": [
    {
     "data": {
      "text/html": [
       "<div>\n",
       "<style scoped>\n",
       "    .dataframe tbody tr th:only-of-type {\n",
       "        vertical-align: middle;\n",
       "    }\n",
       "\n",
       "    .dataframe tbody tr th {\n",
       "        vertical-align: top;\n",
       "    }\n",
       "\n",
       "    .dataframe thead th {\n",
       "        text-align: right;\n",
       "    }\n",
       "</style>\n",
       "<table border=\"1\" class=\"dataframe\">\n",
       "  <thead>\n",
       "    <tr style=\"text-align: right;\">\n",
       "      <th></th>\n",
       "      <th>Data</th>\n",
       "      <th>Label</th>\n",
       "      <th>Label_ori</th>\n",
       "    </tr>\n",
       "  </thead>\n",
       "  <tbody>\n",
       "    <tr>\n",
       "      <th>0</th>\n",
       "      <td>[[75.0, 96.0, 32.0, 0.087, 0.23, -1.04, -0.11]...</td>\n",
       "      <td>0</td>\n",
       "      <td>Relax</td>\n",
       "    </tr>\n",
       "  </tbody>\n",
       "</table>\n",
       "</div>"
      ],
      "text/plain": [
       "                                                Data  Label Label_ori\n",
       "0  [[75.0, 96.0, 32.0, 0.087, 0.23, -1.04, -0.11]...      0     Relax"
      ]
     },
     "execution_count": 7,
     "metadata": {},
     "output_type": "execute_result"
    }
   ],
   "source": [
    "pred_dict = {'Data' : [test_data.squeeze()], 'Label' : predicted_label[0], 'Label_ori' : class_labels[predicted_label[0]]}\n",
    "pred_df = pd.DataFrame.from_dict(pred_dict)\n",
    "pred_df"
   ]
  },
  {
   "cell_type": "code",
   "execution_count": 8,
   "metadata": {},
   "outputs": [
    {
     "data": {
      "image/png": "[encoded data removed]",
      "text/plain": [
       "<Figure size 1500x500 with 2 Axes>"
      ]
     },
     "metadata": {},
     "output_type": "display_data"
    }
   ],
   "source": [
    "\n",
    "\n",
    "# Plot Grad-CAM for all modalities\n",
    "norm = visualizer.vis_grad_cam_all_modal(pred_df)\n"
   ]
  },
  {
   "cell_type": "code",
   "execution_count": 9,
   "metadata": {},
   "outputs": [],
   "source": [
    "# Plot Grad-CAM for the input segment\n",
    "img = visualizer.vis_grad_cam_one_modal(pred_df)"
   ]
  }
 ],
 "metadata": {
  "kernelspec": {
   "display_name": "xaieeg",
   "language": "python",
   "name": "python3"
  },
  "language_info": {
   "codemirror_mode": {
    "name": "ipython",
    "version": 3
   },
   "file_extension": ".py",
   "mimetype": "text/x-python",
   "name": "python",
   "nbconvert_exporter": "python",
   "pygments_lexer": "ipython3",
   "version": "3.10.13"
  }
 },
 "nbformat": 4,
 "nbformat_minor": 2
}
